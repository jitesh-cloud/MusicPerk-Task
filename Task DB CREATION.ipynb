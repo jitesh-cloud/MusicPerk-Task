{
 "cells": [
  {
   "cell_type": "code",
   "execution_count": 4,
   "metadata": {},
   "outputs": [],
   "source": [
    "import mysql.connector\n",
    "import xlrd\n",
    "\n",
    "conn = mysql.connector.connect(host=\"localhost\", user=\"root\", passwd=\"\", database=\"hindalco\")\n",
    "\n",
    "cur = conn.cursor()\n",
    "\n",
    "cur.execute(\"\"\"create table hindalcop(\n",
    "                serial int auto_increment not null primary key, \n",
    "                datetime varchar(20), \n",
    "                open float, \n",
    "                high float, \n",
    "                low float, \n",
    "                close float, \n",
    "                volume float, \n",
    "                instrument varchar(30));\"\"\")\n",
    "\n",
    "conn.close()"
   ]
  },
  {
   "cell_type": "code",
   "execution_count": 16,
   "metadata": {},
   "outputs": [],
   "source": [
    "import mysql.connector\n",
    "import xlrd\n",
    "\n",
    "conn = mysql.connector.connect(host=\"localhost\", user=\"root\", passwd=\"\", database=\"hindalco\")\n",
    "\n",
    "cur = conn.cursor()\n",
    "\n",
    "l = list()\n",
    "\n",
    "df = xlrd.open_workbook(\"D:\\\\FreeCodeCamp\\\\Python Projects\\\\Internshala_Tasks\\\\MusicPerk_Tasks\\\\HINDALCO_1D.xlsx\")\n",
    "\n",
    "sheet = df.sheet_by_index(0)\n",
    "\n",
    "sheet.cell_value(0,0)\n",
    "\n",
    "for i in range(1, 1216):\n",
    "    l.append(tuple(sheet.row_values(i)))\n",
    "\n",
    "query = \"insert into hindalcop(datetime, open, high, low, close, volume, instrument) values(%s,%s,%s,%s,%s,%s,%s)\"\n",
    "cur.executemany(query,l)\n",
    "conn.commit()\n",
    "conn.close()"
   ]
  },
  {
   "cell_type": "code",
   "execution_count": null,
   "metadata": {},
   "outputs": [],
   "source": []
  }
 ],
 "metadata": {
  "kernelspec": {
   "display_name": "Python 3",
   "language": "python",
   "name": "python3"
  },
  "language_info": {
   "codemirror_mode": {
    "name": "ipython",
    "version": 3
   },
   "file_extension": ".py",
   "mimetype": "text/x-python",
   "name": "python",
   "nbconvert_exporter": "python",
   "pygments_lexer": "ipython3",
   "version": "3.8.5"
  }
 },
 "nbformat": 4,
 "nbformat_minor": 4
}
